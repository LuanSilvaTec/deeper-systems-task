{
  "nbformat": 4,
  "nbformat_minor": 0,
  "metadata": {
    "colab": {
      "name": "test.ipynb",
      "provenance": [],
      "collapsed_sections": []
    },
    "kernelspec": {
      "name": "python3",
      "display_name": "Python 3"
    }
  },
  "cells": [
    {
      "cell_type": "code",
      "metadata": {
        "id": "WofnMU7Ia6f2",
        "outputId": "78528b66-981c-4534-f467-43a4c563c18e",
        "colab": {
          "base_uri": "https://localhost:8080/",
          "height": 34
        }
      },
      "source": [
        "from google.colab import drive\n",
        "\n",
        "drive.mount('/content/gdrive')\n",
        "root_path = './gdrive/My Drive/project_test'"
      ],
      "execution_count": 1,
      "outputs": [
        {
          "output_type": "stream",
          "text": [
            "Mounted at /content/gdrive\n"
          ],
          "name": "stdout"
        }
      ]
    },
    {
      "cell_type": "markdown",
      "metadata": {
        "id": "XJabxj1yb6TD"
      },
      "source": [
        "Packages"
      ]
    },
    {
      "cell_type": "code",
      "metadata": {
        "id": "QNxm76Rub94-"
      },
      "source": [
        "import json\n",
        "import pandas as pd"
      ],
      "execution_count": 315,
      "outputs": []
    },
    {
      "cell_type": "code",
      "metadata": {
        "id": "fojgukoDb6lL"
      },
      "source": [
        "data= pd.read_json(root_path+'/source_file_2.json')"
      ],
      "execution_count": 316,
      "outputs": []
    },
    {
      "cell_type": "code",
      "metadata": {
        "id": "HbE9mo5qrVWY"
      },
      "source": [
        "data=data.sort_values(['priority'])"
      ],
      "execution_count": 317,
      "outputs": []
    },
    {
      "cell_type": "code",
      "metadata": {
        "id": "WTAauo72s1dZ",
        "outputId": "8283975c-1384-4a00-adad-37c49c662ee8",
        "colab": {
          "base_uri": "https://localhost:8080/",
          "height": 1000
        }
      },
      "source": [
        "data"
      ],
      "execution_count": 318,
      "outputs": [
        {
          "output_type": "execute_result",
          "data": {
            "text/html": [
              "<div>\n",
              "<style scoped>\n",
              "    .dataframe tbody tr th:only-of-type {\n",
              "        vertical-align: middle;\n",
              "    }\n",
              "\n",
              "    .dataframe tbody tr th {\n",
              "        vertical-align: top;\n",
              "    }\n",
              "\n",
              "    .dataframe thead th {\n",
              "        text-align: right;\n",
              "    }\n",
              "</style>\n",
              "<table border=\"1\" class=\"dataframe\">\n",
              "  <thead>\n",
              "    <tr style=\"text-align: right;\">\n",
              "      <th></th>\n",
              "      <th>name</th>\n",
              "      <th>managers</th>\n",
              "      <th>watchers</th>\n",
              "      <th>priority</th>\n",
              "    </tr>\n",
              "  </thead>\n",
              "  <tbody>\n",
              "    <tr>\n",
              "      <th>2</th>\n",
              "      <td>Annotations</td>\n",
              "      <td>[luanda]</td>\n",
              "      <td>[csaftoiu, merlin, victor]</td>\n",
              "      <td>10</td>\n",
              "    </tr>\n",
              "    <tr>\n",
              "      <th>21</th>\n",
              "      <td>[EXECUTIVE] Merlin</td>\n",
              "      <td>[merlin]</td>\n",
              "      <td>[csaftoiu, jpfarias, merlin, morris]</td>\n",
              "      <td>20</td>\n",
              "    </tr>\n",
              "    <tr>\n",
              "      <th>45</th>\n",
              "      <td>sportsparsers - 22bet</td>\n",
              "      <td>[morris]</td>\n",
              "      <td>[csaftoiu, merlin]</td>\n",
              "      <td>45</td>\n",
              "    </tr>\n",
              "    <tr>\n",
              "      <th>44</th>\n",
              "      <td>sportsparsers - esportscalendar</td>\n",
              "      <td>[morris]</td>\n",
              "      <td>[csaftoiu, merlin]</td>\n",
              "      <td>55</td>\n",
              "    </tr>\n",
              "    <tr>\n",
              "      <th>33</th>\n",
              "      <td>morris bg data gathering</td>\n",
              "      <td>[victor]</td>\n",
              "      <td>[csaftoiu, morris]</td>\n",
              "      <td>130</td>\n",
              "    </tr>\n",
              "    <tr>\n",
              "      <th>42</th>\n",
              "      <td>sportsparsers - unikrn</td>\n",
              "      <td>[morris]</td>\n",
              "      <td>[csaftoiu, merlin]</td>\n",
              "      <td>145</td>\n",
              "    </tr>\n",
              "    <tr>\n",
              "      <th>4</th>\n",
              "      <td>Deepgammon</td>\n",
              "      <td>[morris]</td>\n",
              "      <td>[merlin, victor]</td>\n",
              "      <td>150</td>\n",
              "    </tr>\n",
              "    <tr>\n",
              "      <th>41</th>\n",
              "      <td>Runningball Parser</td>\n",
              "      <td>[morris]</td>\n",
              "      <td>[csaftoiu, merlin]</td>\n",
              "      <td>155</td>\n",
              "    </tr>\n",
              "    <tr>\n",
              "      <th>43</th>\n",
              "      <td>sportsparsers - unibet</td>\n",
              "      <td>[morris]</td>\n",
              "      <td>[csaftoiu, merlin]</td>\n",
              "      <td>250</td>\n",
              "    </tr>\n",
              "    <tr>\n",
              "      <th>1</th>\n",
              "      <td>[Web] pm-site</td>\n",
              "      <td>[merlin]</td>\n",
              "      <td>[csaftoiu, jpfarias, morris]</td>\n",
              "      <td>260</td>\n",
              "    </tr>\n",
              "    <tr>\n",
              "      <th>36</th>\n",
              "      <td>sportsparsers - tipster.de</td>\n",
              "      <td>[morris]</td>\n",
              "      <td>[csaftoiu, merlin]</td>\n",
              "      <td>295</td>\n",
              "    </tr>\n",
              "    <tr>\n",
              "      <th>40</th>\n",
              "      <td>sportsparsers - betway</td>\n",
              "      <td>[morris]</td>\n",
              "      <td>[csaftoiu, merlin]</td>\n",
              "      <td>300</td>\n",
              "    </tr>\n",
              "    <tr>\n",
              "      <th>39</th>\n",
              "      <td>sportsparsers - gg.bet</td>\n",
              "      <td>[morris]</td>\n",
              "      <td>[csaftoiu, merlin]</td>\n",
              "      <td>310</td>\n",
              "    </tr>\n",
              "    <tr>\n",
              "      <th>34</th>\n",
              "      <td>sportsparsers - pinnacle API</td>\n",
              "      <td>[csaftoiu]</td>\n",
              "      <td>[Alex, csaftoiu, morris]</td>\n",
              "      <td>340</td>\n",
              "    </tr>\n",
              "    <tr>\n",
              "      <th>37</th>\n",
              "      <td>sportsparsers - matchbook</td>\n",
              "      <td>[morris]</td>\n",
              "      <td>[csaftoiu, merlin]</td>\n",
              "      <td>395</td>\n",
              "    </tr>\n",
              "    <tr>\n",
              "      <th>3</th>\n",
              "      <td>[OCR] tesseract MRZ reading</td>\n",
              "      <td>[csaftoiu]</td>\n",
              "      <td>[arturc, merlin]</td>\n",
              "      <td>560</td>\n",
              "    </tr>\n",
              "    <tr>\n",
              "      <th>28</th>\n",
              "      <td>[ID-VERIFY-PIPELINE] finger detector</td>\n",
              "      <td>[merlin]</td>\n",
              "      <td>[csaftoiu, jpfarias, morris]</td>\n",
              "      <td>735</td>\n",
              "    </tr>\n",
              "    <tr>\n",
              "      <th>20</th>\n",
              "      <td>[CHESS] Live Demo Executive</td>\n",
              "      <td>[merlin]</td>\n",
              "      <td>[csaftoiu, morris]</td>\n",
              "      <td>750</td>\n",
              "    </tr>\n",
              "    <tr>\n",
              "      <th>22</th>\n",
              "      <td>[INHOUSE-TOOLS] NN-Webapp</td>\n",
              "      <td>[merlin]</td>\n",
              "      <td>[csaftoiu, jpfarias, merlin, morris]</td>\n",
              "      <td>755</td>\n",
              "    </tr>\n",
              "    <tr>\n",
              "      <th>23</th>\n",
              "      <td>[INHOUSE-TOOLS] Annotators app</td>\n",
              "      <td>[merlin]</td>\n",
              "      <td>[csaftoiu, jpfarias, morris]</td>\n",
              "      <td>760</td>\n",
              "    </tr>\n",
              "    <tr>\n",
              "      <th>9</th>\n",
              "      <td>unity render diff passport text artur</td>\n",
              "      <td>[arturc, csaftoiu]</td>\n",
              "      <td>[merlin, morris]</td>\n",
              "      <td>815</td>\n",
              "    </tr>\n",
              "    <tr>\n",
              "      <th>0</th>\n",
              "      <td>[CV] [Qt] OpenCV GUI</td>\n",
              "      <td>[csaftoiu, merlin]</td>\n",
              "      <td>[merlin, morris]</td>\n",
              "      <td>850</td>\n",
              "    </tr>\n",
              "    <tr>\n",
              "      <th>5</th>\n",
              "      <td>python training lucas</td>\n",
              "      <td>[merlin]</td>\n",
              "      <td>[csaftoiu, morris]</td>\n",
              "      <td>2160</td>\n",
              "    </tr>\n",
              "    <tr>\n",
              "      <th>6</th>\n",
              "      <td>python training alysson</td>\n",
              "      <td>[merlin]</td>\n",
              "      <td>[csaftoiu, morris]</td>\n",
              "      <td>2180</td>\n",
              "    </tr>\n",
              "    <tr>\n",
              "      <th>7</th>\n",
              "      <td>unity render different passport text</td>\n",
              "      <td>[csaftoiu]</td>\n",
              "      <td>[merlin, morris]</td>\n",
              "      <td>2230</td>\n",
              "    </tr>\n",
              "    <tr>\n",
              "      <th>8</th>\n",
              "      <td>[template] unity render passport text</td>\n",
              "      <td>[csaftoiu]</td>\n",
              "      <td>[merlin, morris]</td>\n",
              "      <td>2235</td>\n",
              "    </tr>\n",
              "    <tr>\n",
              "      <th>10</th>\n",
              "      <td>unity render diff passport text - kennedy</td>\n",
              "      <td>[merlin]</td>\n",
              "      <td>[csaftoiu, merlin, morris]</td>\n",
              "      <td>2260</td>\n",
              "    </tr>\n",
              "    <tr>\n",
              "      <th>11</th>\n",
              "      <td>Unity Render Passport Text [Template]</td>\n",
              "      <td>[merlin]</td>\n",
              "      <td>[csaftoiu, merlin, morris]</td>\n",
              "      <td>2265</td>\n",
              "    </tr>\n",
              "    <tr>\n",
              "      <th>12</th>\n",
              "      <td>mateus silva bg deep checkers</td>\n",
              "      <td>[victor-mgr]</td>\n",
              "      <td>[csaftoiu, merlin]</td>\n",
              "      <td>2295</td>\n",
              "    </tr>\n",
              "    <tr>\n",
              "      <th>13</th>\n",
              "      <td>Android Camera App rrocha</td>\n",
              "      <td>[victor-mgr]</td>\n",
              "      <td>[csaftoiu, merlin]</td>\n",
              "      <td>2300</td>\n",
              "    </tr>\n",
              "    <tr>\n",
              "      <th>14</th>\n",
              "      <td>bg deep learning aporto</td>\n",
              "      <td>[victor-mgr]</td>\n",
              "      <td>[csaftoiu, merlin]</td>\n",
              "      <td>2305</td>\n",
              "    </tr>\n",
              "    <tr>\n",
              "      <th>15</th>\n",
              "      <td>bg deep checkers rvalentim</td>\n",
              "      <td>[victor-mgr]</td>\n",
              "      <td>[csaftoiu, merlin]</td>\n",
              "      <td>2310</td>\n",
              "    </tr>\n",
              "    <tr>\n",
              "      <th>16</th>\n",
              "      <td>tourney site famador</td>\n",
              "      <td>[victor-mgr]</td>\n",
              "      <td>[csaftoiu, merlin]</td>\n",
              "      <td>2320</td>\n",
              "    </tr>\n",
              "    <tr>\n",
              "      <th>17</th>\n",
              "      <td>chess board finder eliaquim</td>\n",
              "      <td>[merlin]</td>\n",
              "      <td>[csaftoiu, victor-mgr]</td>\n",
              "      <td>2330</td>\n",
              "    </tr>\n",
              "    <tr>\n",
              "      <th>18</th>\n",
              "      <td>tourney site ariel</td>\n",
              "      <td>[victor-mgr]</td>\n",
              "      <td>[csaftoiu, merlin]</td>\n",
              "      <td>2340</td>\n",
              "    </tr>\n",
              "    <tr>\n",
              "      <th>19</th>\n",
              "      <td>tourney site tbarbalho</td>\n",
              "      <td>[victor-mgr]</td>\n",
              "      <td>[csaftoiu, merlin]</td>\n",
              "      <td>2345</td>\n",
              "    </tr>\n",
              "    <tr>\n",
              "      <th>24</th>\n",
              "      <td>[IOS-APPS] IOS streaming app</td>\n",
              "      <td>[merlin]</td>\n",
              "      <td>[csaftoiu, jpfarias, morris]</td>\n",
              "      <td>2375</td>\n",
              "    </tr>\n",
              "    <tr>\n",
              "      <th>25</th>\n",
              "      <td>[IOS-APPS] IOS PI app</td>\n",
              "      <td>[merlin]</td>\n",
              "      <td>[csaftoiu, jpfarias, morris]</td>\n",
              "      <td>2380</td>\n",
              "    </tr>\n",
              "    <tr>\n",
              "      <th>26</th>\n",
              "      <td>[HR] Candidate tests</td>\n",
              "      <td>[merlin]</td>\n",
              "      <td>[csaftoiu, jpfarias, morris]</td>\n",
              "      <td>2385</td>\n",
              "    </tr>\n",
              "    <tr>\n",
              "      <th>27</th>\n",
              "      <td>[CHATBOT] merlin</td>\n",
              "      <td>[merlin]</td>\n",
              "      <td>[csaftoiu, jpfarias, morris]</td>\n",
              "      <td>2390</td>\n",
              "    </tr>\n",
              "    <tr>\n",
              "      <th>29</th>\n",
              "      <td>[ID-VERIFY-PIPELINE] Background evaluator</td>\n",
              "      <td>[merlin]</td>\n",
              "      <td>[csaftoiu, jpfarias, morris]</td>\n",
              "      <td>2395</td>\n",
              "    </tr>\n",
              "    <tr>\n",
              "      <th>30</th>\n",
              "      <td>[ID-VERIFY-PIPELINE] Passport finder</td>\n",
              "      <td>[merlin]</td>\n",
              "      <td>[csaftoiu, jpfarias, morris]</td>\n",
              "      <td>2400</td>\n",
              "    </tr>\n",
              "    <tr>\n",
              "      <th>31</th>\n",
              "      <td>[CHATBOT] rodrigo</td>\n",
              "      <td>[merlin]</td>\n",
              "      <td>[csaftoiu, jpfarias, morris]</td>\n",
              "      <td>2405</td>\n",
              "    </tr>\n",
              "    <tr>\n",
              "      <th>32</th>\n",
              "      <td>[BG-CLUB-SITE] frontend</td>\n",
              "      <td>[ariel, merlin]</td>\n",
              "      <td>[csaftoiu, jpfarias, morris]</td>\n",
              "      <td>2435</td>\n",
              "    </tr>\n",
              "    <tr>\n",
              "      <th>35</th>\n",
              "      <td>[INHOUSE-TOOLS] NN-Webapp 2</td>\n",
              "      <td>[merlin]</td>\n",
              "      <td>[csaftoiu, jpfarias, merlin, morris]</td>\n",
              "      <td>2520</td>\n",
              "    </tr>\n",
              "    <tr>\n",
              "      <th>38</th>\n",
              "      <td>matchbook parser - mfilho</td>\n",
              "      <td>[csaftoiu, morris]</td>\n",
              "      <td>[jpfarias, merlin]</td>\n",
              "      <td>2575</td>\n",
              "    </tr>\n",
              "  </tbody>\n",
              "</table>\n",
              "</div>"
            ],
            "text/plain": [
              "                                         name  ... priority\n",
              "2                                 Annotations  ...       10\n",
              "21                         [EXECUTIVE] Merlin  ...       20\n",
              "45                      sportsparsers - 22bet  ...       45\n",
              "44            sportsparsers - esportscalendar  ...       55\n",
              "33                   morris bg data gathering  ...      130\n",
              "42                     sportsparsers - unikrn  ...      145\n",
              "4                                  Deepgammon  ...      150\n",
              "41                         Runningball Parser  ...      155\n",
              "43                     sportsparsers - unibet  ...      250\n",
              "1                               [Web] pm-site  ...      260\n",
              "36                 sportsparsers - tipster.de  ...      295\n",
              "40                     sportsparsers - betway  ...      300\n",
              "39                     sportsparsers - gg.bet  ...      310\n",
              "34               sportsparsers - pinnacle API  ...      340\n",
              "37                  sportsparsers - matchbook  ...      395\n",
              "3                [OCR] tesseract MRZ reading   ...      560\n",
              "28       [ID-VERIFY-PIPELINE] finger detector  ...      735\n",
              "20                [CHESS] Live Demo Executive  ...      750\n",
              "22                  [INHOUSE-TOOLS] NN-Webapp  ...      755\n",
              "23             [INHOUSE-TOOLS] Annotators app  ...      760\n",
              "9       unity render diff passport text artur  ...      815\n",
              "0                        [CV] [Qt] OpenCV GUI  ...      850\n",
              "5                       python training lucas  ...     2160\n",
              "6                     python training alysson  ...     2180\n",
              "7        unity render different passport text  ...     2230\n",
              "8       [template] unity render passport text  ...     2235\n",
              "10  unity render diff passport text - kennedy  ...     2260\n",
              "11      Unity Render Passport Text [Template]  ...     2265\n",
              "12              mateus silva bg deep checkers  ...     2295\n",
              "13                  Android Camera App rrocha  ...     2300\n",
              "14                    bg deep learning aporto  ...     2305\n",
              "15                 bg deep checkers rvalentim  ...     2310\n",
              "16                       tourney site famador  ...     2320\n",
              "17                chess board finder eliaquim  ...     2330\n",
              "18                         tourney site ariel  ...     2340\n",
              "19                     tourney site tbarbalho  ...     2345\n",
              "24               [IOS-APPS] IOS streaming app  ...     2375\n",
              "25                      [IOS-APPS] IOS PI app  ...     2380\n",
              "26                       [HR] Candidate tests  ...     2385\n",
              "27                           [CHATBOT] merlin  ...     2390\n",
              "29  [ID-VERIFY-PIPELINE] Background evaluator  ...     2395\n",
              "30       [ID-VERIFY-PIPELINE] Passport finder  ...     2400\n",
              "31                          [CHATBOT] rodrigo  ...     2405\n",
              "32                    [BG-CLUB-SITE] frontend  ...     2435\n",
              "35                [INHOUSE-TOOLS] NN-Webapp 2  ...     2520\n",
              "38                  matchbook parser - mfilho  ...     2575\n",
              "\n",
              "[46 rows x 4 columns]"
            ]
          },
          "metadata": {
            "tags": []
          },
          "execution_count": 318
        }
      ]
    },
    {
      "cell_type": "code",
      "metadata": {
        "id": "3GIxREUf10-x",
        "outputId": "94ff1f31-1bdd-4e82-ce3c-3af74b552cb3",
        "colab": {
          "base_uri": "https://localhost:8080/",
          "height": 34
        }
      },
      "source": [
        "managers={\"luanda\":[],\n",
        "          \"merlin\":[],\n",
        "          'morris':[],\n",
        "          \"victor\":[],\n",
        "          \"csaftoiu\":[],\n",
        "          \"arturc\":[],\n",
        "          \"victor-mgr\":[],\n",
        "          \"ariel\":[]\n",
        "          }\n",
        "keys=list(managers)\n",
        "print(keys[7])\n"
      ],
      "execution_count": 319,
      "outputs": [
        {
          "output_type": "stream",
          "text": [
            "ariel\n"
          ],
          "name": "stdout"
        }
      ]
    },
    {
      "cell_type": "code",
      "metadata": {
        "id": "TRd1aVRz9QZa",
        "outputId": "2fdf56ad-1764-48bf-f5c1-d97ed41d7635",
        "colab": {
          "base_uri": "https://localhost:8080/",
          "height": 153
        }
      },
      "source": [
        "#Método 1 Managers\n",
        "for key in range(len(keys)):\n",
        "  print(keys[key])\n",
        "  for linha in data.itertuples():\n",
        "    tan= len(linha.managers)\n",
        "    for sub in range(tan):\n",
        "      if(linha.managers[sub]==keys[key]):\n",
        "        managers[keys[key]].append(linha.name)\n"
      ],
      "execution_count": 320,
      "outputs": [
        {
          "output_type": "stream",
          "text": [
            "luanda\n",
            "merlin\n",
            "morris\n",
            "victor\n",
            "csaftoiu\n",
            "arturc\n",
            "victor-mgr\n",
            "ariel\n"
          ],
          "name": "stdout"
        }
      ]
    },
    {
      "cell_type": "code",
      "metadata": {
        "id": "gNYOEJGlAbmX"
      },
      "source": [
        "#Método 2 Managers\n",
        "for linha in data.itertuples():\n",
        "  for key in range(len(keys)):\n",
        "    tan= len(linha.managers)\n",
        "    for sub in range(tan):\n",
        "      if(linha.managers[sub]==keys[key]):\n",
        "        managers[keys[key]].append(linha.name)\n"
      ],
      "execution_count": 299,
      "outputs": []
    },
    {
      "cell_type": "code",
      "metadata": {
        "id": "vhIPh5i37iL0",
        "outputId": "41fd7e51-8e1c-4025-83a2-f255e2ff2bcf",
        "colab": {
          "base_uri": "https://localhost:8080/",
          "height": 34
        }
      },
      "source": [
        "type(managers)"
      ],
      "execution_count": 321,
      "outputs": [
        {
          "output_type": "execute_result",
          "data": {
            "text/plain": [
              "dict"
            ]
          },
          "metadata": {
            "tags": []
          },
          "execution_count": 321
        }
      ]
    },
    {
      "cell_type": "markdown",
      "metadata": {
        "id": "smK6ehzVCUTm"
      },
      "source": [
        "Salvando managers"
      ]
    },
    {
      "cell_type": "code",
      "metadata": {
        "id": "6aBWLRy4CUib"
      },
      "source": [
        "with open(root_path+\"/managers.json\", \"w\") as json_file:\n",
        "    json.dump(managers, json_file, indent=4)"
      ],
      "execution_count": 303,
      "outputs": []
    },
    {
      "cell_type": "markdown",
      "metadata": {
        "id": "bjDqig3uC9qE"
      },
      "source": [
        "Watchers"
      ]
    },
    {
      "cell_type": "code",
      "metadata": {
        "id": "Ld-ahRoCDbcC",
        "outputId": "2aa41d1e-0245-46d1-eb05-a8a64edb7be0",
        "colab": {
          "base_uri": "https://localhost:8080/",
          "height": 816
        }
      },
      "source": [
        "data['watchers']"
      ],
      "execution_count": 322,
      "outputs": [
        {
          "output_type": "execute_result",
          "data": {
            "text/plain": [
              "2               [csaftoiu, merlin, victor]\n",
              "21    [csaftoiu, jpfarias, merlin, morris]\n",
              "45                      [csaftoiu, merlin]\n",
              "44                      [csaftoiu, merlin]\n",
              "33                      [csaftoiu, morris]\n",
              "42                      [csaftoiu, merlin]\n",
              "4                         [merlin, victor]\n",
              "41                      [csaftoiu, merlin]\n",
              "43                      [csaftoiu, merlin]\n",
              "1             [csaftoiu, jpfarias, morris]\n",
              "36                      [csaftoiu, merlin]\n",
              "40                      [csaftoiu, merlin]\n",
              "39                      [csaftoiu, merlin]\n",
              "34                [Alex, csaftoiu, morris]\n",
              "37                      [csaftoiu, merlin]\n",
              "3                         [arturc, merlin]\n",
              "28            [csaftoiu, jpfarias, morris]\n",
              "20                      [csaftoiu, morris]\n",
              "22    [csaftoiu, jpfarias, merlin, morris]\n",
              "23            [csaftoiu, jpfarias, morris]\n",
              "9                         [merlin, morris]\n",
              "0                         [merlin, morris]\n",
              "5                       [csaftoiu, morris]\n",
              "6                       [csaftoiu, morris]\n",
              "7                         [merlin, morris]\n",
              "8                         [merlin, morris]\n",
              "10              [csaftoiu, merlin, morris]\n",
              "11              [csaftoiu, merlin, morris]\n",
              "12                      [csaftoiu, merlin]\n",
              "13                      [csaftoiu, merlin]\n",
              "14                      [csaftoiu, merlin]\n",
              "15                      [csaftoiu, merlin]\n",
              "16                      [csaftoiu, merlin]\n",
              "17                  [csaftoiu, victor-mgr]\n",
              "18                      [csaftoiu, merlin]\n",
              "19                      [csaftoiu, merlin]\n",
              "24            [csaftoiu, jpfarias, morris]\n",
              "25            [csaftoiu, jpfarias, morris]\n",
              "26            [csaftoiu, jpfarias, morris]\n",
              "27            [csaftoiu, jpfarias, morris]\n",
              "29            [csaftoiu, jpfarias, morris]\n",
              "30            [csaftoiu, jpfarias, morris]\n",
              "31            [csaftoiu, jpfarias, morris]\n",
              "32            [csaftoiu, jpfarias, morris]\n",
              "35    [csaftoiu, jpfarias, merlin, morris]\n",
              "38                      [jpfarias, merlin]\n",
              "Name: watchers, dtype: object"
            ]
          },
          "metadata": {
            "tags": []
          },
          "execution_count": 322
        }
      ]
    },
    {
      "cell_type": "code",
      "metadata": {
        "id": "9kxUe2GGDDO0"
      },
      "source": [
        "watchers={\"luanda\":[],\n",
        "          \"merlin\":[],\n",
        "          'morris':[],\n",
        "          \"victor\":[],\n",
        "          \"csaftoiu\":[],\n",
        "          \"arturc\":[],\n",
        "          \"victor-mgr\":[],\n",
        "          \"ariel\":[],\n",
        "          \"jpfarias\":[]\n",
        "          }\n",
        "keys_watchers=list(watchers)"
      ],
      "execution_count": 323,
      "outputs": []
    },
    {
      "cell_type": "code",
      "metadata": {
        "id": "kT-vfPs2DuZF"
      },
      "source": [
        "#Método Watchers\n",
        "for linha in data.itertuples():\n",
        "  for key in range(len(keys_watchers)):\n",
        "    tan= len(linha.watchers)\n",
        "    for sub in range(tan):\n",
        "      if(linha.watchers[sub]==keys_watchers[key]):\n",
        "        watchers[keys_watchers[key]].append(linha.name)"
      ],
      "execution_count": 324,
      "outputs": []
    },
    {
      "cell_type": "code",
      "metadata": {
        "id": "gj0SqUROD53p",
        "outputId": "500fca5e-72b1-455e-ae3c-b72922cee241",
        "colab": {
          "base_uri": "https://localhost:8080/",
          "height": 1000
        }
      },
      "source": [
        "watchers"
      ],
      "execution_count": 325,
      "outputs": [
        {
          "output_type": "execute_result",
          "data": {
            "text/plain": [
              "{'ariel': [],\n",
              " 'arturc': ['[OCR] tesseract MRZ reading '],\n",
              " 'csaftoiu': ['Annotations',\n",
              "  '[EXECUTIVE] Merlin',\n",
              "  'sportsparsers - 22bet',\n",
              "  'sportsparsers - esportscalendar',\n",
              "  'morris bg data gathering',\n",
              "  'sportsparsers - unikrn',\n",
              "  'Runningball Parser',\n",
              "  'sportsparsers - unibet',\n",
              "  '[Web] pm-site',\n",
              "  'sportsparsers - tipster.de',\n",
              "  'sportsparsers - betway',\n",
              "  'sportsparsers - gg.bet',\n",
              "  'sportsparsers - pinnacle API',\n",
              "  'sportsparsers - matchbook',\n",
              "  '[ID-VERIFY-PIPELINE] finger detector',\n",
              "  '[CHESS] Live Demo Executive',\n",
              "  '[INHOUSE-TOOLS] NN-Webapp',\n",
              "  '[INHOUSE-TOOLS] Annotators app',\n",
              "  'python training lucas',\n",
              "  'python training alysson',\n",
              "  'unity render diff passport text - kennedy',\n",
              "  'Unity Render Passport Text [Template]',\n",
              "  'mateus silva bg deep checkers',\n",
              "  'Android Camera App rrocha',\n",
              "  'bg deep learning aporto',\n",
              "  'bg deep checkers rvalentim',\n",
              "  'tourney site famador',\n",
              "  'chess board finder eliaquim',\n",
              "  'tourney site ariel',\n",
              "  'tourney site tbarbalho',\n",
              "  '[IOS-APPS] IOS streaming app',\n",
              "  '[IOS-APPS] IOS PI app',\n",
              "  '[HR] Candidate tests',\n",
              "  '[CHATBOT] merlin',\n",
              "  '[ID-VERIFY-PIPELINE] Background evaluator',\n",
              "  '[ID-VERIFY-PIPELINE] Passport finder',\n",
              "  '[CHATBOT] rodrigo',\n",
              "  '[BG-CLUB-SITE] frontend',\n",
              "  '[INHOUSE-TOOLS] NN-Webapp 2'],\n",
              " 'jpfarias': ['[EXECUTIVE] Merlin',\n",
              "  '[Web] pm-site',\n",
              "  '[ID-VERIFY-PIPELINE] finger detector',\n",
              "  '[INHOUSE-TOOLS] NN-Webapp',\n",
              "  '[INHOUSE-TOOLS] Annotators app',\n",
              "  '[IOS-APPS] IOS streaming app',\n",
              "  '[IOS-APPS] IOS PI app',\n",
              "  '[HR] Candidate tests',\n",
              "  '[CHATBOT] merlin',\n",
              "  '[ID-VERIFY-PIPELINE] Background evaluator',\n",
              "  '[ID-VERIFY-PIPELINE] Passport finder',\n",
              "  '[CHATBOT] rodrigo',\n",
              "  '[BG-CLUB-SITE] frontend',\n",
              "  '[INHOUSE-TOOLS] NN-Webapp 2',\n",
              "  'matchbook parser - mfilho'],\n",
              " 'luanda': [],\n",
              " 'merlin': ['Annotations',\n",
              "  '[EXECUTIVE] Merlin',\n",
              "  'sportsparsers - 22bet',\n",
              "  'sportsparsers - esportscalendar',\n",
              "  'sportsparsers - unikrn',\n",
              "  'Deepgammon',\n",
              "  'Runningball Parser',\n",
              "  'sportsparsers - unibet',\n",
              "  'sportsparsers - tipster.de',\n",
              "  'sportsparsers - betway',\n",
              "  'sportsparsers - gg.bet',\n",
              "  'sportsparsers - matchbook',\n",
              "  '[OCR] tesseract MRZ reading ',\n",
              "  '[INHOUSE-TOOLS] NN-Webapp',\n",
              "  'unity render diff passport text artur',\n",
              "  '[CV] [Qt] OpenCV GUI',\n",
              "  'unity render different passport text',\n",
              "  '[template] unity render passport text',\n",
              "  'unity render diff passport text - kennedy',\n",
              "  'Unity Render Passport Text [Template]',\n",
              "  'mateus silva bg deep checkers',\n",
              "  'Android Camera App rrocha',\n",
              "  'bg deep learning aporto',\n",
              "  'bg deep checkers rvalentim',\n",
              "  'tourney site famador',\n",
              "  'tourney site ariel',\n",
              "  'tourney site tbarbalho',\n",
              "  '[INHOUSE-TOOLS] NN-Webapp 2',\n",
              "  'matchbook parser - mfilho'],\n",
              " 'morris': ['[EXECUTIVE] Merlin',\n",
              "  'morris bg data gathering',\n",
              "  '[Web] pm-site',\n",
              "  'sportsparsers - pinnacle API',\n",
              "  '[ID-VERIFY-PIPELINE] finger detector',\n",
              "  '[CHESS] Live Demo Executive',\n",
              "  '[INHOUSE-TOOLS] NN-Webapp',\n",
              "  '[INHOUSE-TOOLS] Annotators app',\n",
              "  'unity render diff passport text artur',\n",
              "  '[CV] [Qt] OpenCV GUI',\n",
              "  'python training lucas',\n",
              "  'python training alysson',\n",
              "  'unity render different passport text',\n",
              "  '[template] unity render passport text',\n",
              "  'unity render diff passport text - kennedy',\n",
              "  'Unity Render Passport Text [Template]',\n",
              "  '[IOS-APPS] IOS streaming app',\n",
              "  '[IOS-APPS] IOS PI app',\n",
              "  '[HR] Candidate tests',\n",
              "  '[CHATBOT] merlin',\n",
              "  '[ID-VERIFY-PIPELINE] Background evaluator',\n",
              "  '[ID-VERIFY-PIPELINE] Passport finder',\n",
              "  '[CHATBOT] rodrigo',\n",
              "  '[BG-CLUB-SITE] frontend',\n",
              "  '[INHOUSE-TOOLS] NN-Webapp 2'],\n",
              " 'victor': ['Annotations', 'Deepgammon'],\n",
              " 'victor-mgr': ['chess board finder eliaquim']}"
            ]
          },
          "metadata": {
            "tags": []
          },
          "execution_count": 325
        }
      ]
    },
    {
      "cell_type": "markdown",
      "metadata": {
        "id": "F4AXc4GYETY5"
      },
      "source": [
        "Salvando Json Watchers"
      ]
    },
    {
      "cell_type": "code",
      "metadata": {
        "id": "-8TUFubxEQQS"
      },
      "source": [
        "with open(root_path+\"/watchers.json\", \"w\") as json_file:\n",
        "    json.dump(watchers, json_file, indent=4)"
      ],
      "execution_count": 314,
      "outputs": []
    }
  ]
}